{
 "cells": [
  {
   "cell_type": "code",
   "execution_count": 74,
   "metadata": {
    "collapsed": true
   },
   "outputs": [],
   "source": [
    "# class_ only choose from: \"LOCATION\", \"PERSON\", \"ORGANIZATION\", \"MONEY\", \"PERCENT\", \"DATE\", \"TIME\"\n",
    "def tag(text, class_):\n",
    "    from nltk.tag import StanfordNERTagger\n",
    "    st = StanfordNERTagger('.\\classifiers\\english.muc.7class.distsim.crf.ser.gz','.\\stanford-ner.jar')\n",
    "    result = st.tag(text.split())\n",
    "    print (class_)+\":\"\n",
    "    for i in result:\n",
    "        if i[1] == class_:\n",
    "            print i[0]\n",
    "    print \"\\n\""
   ]
  },
  {
   "cell_type": "code",
   "execution_count": 75,
   "metadata": {
    "collapsed": false
   },
   "outputs": [
    {
     "name": "stdout",
     "output_type": "stream",
     "text": [
      "PERSON:\n",
      "jen\n",
      "medcalf\n",
      "greg\n",
      "pyl\n",
      "lovejoy\n",
      "\n",
      "\n",
      "ORGANIZATION:\n",
      "hp\n",
      "bil\n",
      "hp\n",
      "enron\n",
      "bil\n",
      "bil\n",
      "bil\n",
      "hp\n",
      "enron\n",
      "enron\n",
      "enron\n",
      "eb\n",
      "gss\n",
      "enron\n",
      "enron\n",
      "hp\n",
      "hp\n",
      "decid\n",
      "mak\n",
      "bil\n",
      "hp\n",
      "enron\n",
      "lexmark\n",
      "enron\n",
      "bil\n",
      "\n",
      "\n"
     ]
    }
   ],
   "source": [
    "text = 'good plan agr re sj she is on the ballmhpatrick tuck pm to mat harrisenron communicationsenron commun cc dal clarkenron communicationsenron commun subject re hp confid intern document agr sarahjoy and i had a detail followon convers today about thi top and wer in agr as to how thing can mov forward id definit lik to hav bil rejoin our convers with our new overal commerc contact at hp whos nam greg pyl and bil lovejoy wil supply in the very near fut i understand that pet goebel was quit clear with hp in today meet regard the immin nat of his wireless decid the bread of vend with whom he could conceiv do busy and the fact that the wireless deal and the enron sel sid ar inext link sarahjoy ment that gerry has not been pres in the mor rec convers which wer tak to ind that bil and greg understand that his foc was diff than our sarahjoy has brought immens foc and org to thi process i hav certain found her involv invalu patrickmat har am to sarahjoy hunternaenronenron cc dal clarkenron communicationsenron commun jen medcalfnaenronenron patrick tuckerenron communicationsenron commun pet goebelnaenronenron subject re hp confid intern documentth is an excel upd thank for put thi togetherdalepatrick let regroup on how we want to mov thi onward seem lik sjs suggest of our spend mor tim with bil dwy is a good onethanksmattsarahjoy hunterenron pm to mat harrisenron communicationsenron commun cc patrick tuckerenron communicationsenron commun pet goebelnaenronenron dal clarkenron communicationsenron commun jen medcalfnaenronenron subject hp confid intern documentmatta gss busy develop transit the hp rel for broadband to yo team ther ar sev issu i want to clar in term of how the rel has been develop and who the contact hav been to dat addit i outlin the discuss pointsact item from thi morn meet you held with jen medcalf and myself per yo request the hp pres complet with a list of hps busy partn was email to you thi morninghp contact to dat bil lovejoy western gulf are sal managerhouston txgerry cashiola bossgerry cashiol sal repres houston txto dat hp person coordin the relationshipseek a short term playgreg pyl solv control managersoutheast regionaustin tx pyl has been play the busy develop rol but continu to def lead of the process to gerry cashioladaniel morgridg man of internet eserv long term alliancesaustin txinterest in eserviceswireless long term alliancesbil dwy chief architect eserv solutionscupertino cato dat clear the most knowledg person on hps busy proposit strong techn fin background to craft valu proposit gerry cashiol and greg pyl defer to his judg in the th meetingmat on novemb th gss busy develop took hp through a tour of enron trad flo the gas control cent and the peak pow plant unit cent on the trad flo thi tour was on meet amongst sev held in octob and novemb to provid hp a ful overview of enron produc and serv and introduc them to appropry contact at enron eb gss buy sid pet goebelon novemb th gss busy develop patrick tuck and dal clark outlin poss ebshp foc area connect stor and wireless three eb act item wer defin in that meet hp was to provid an hp contact on connect to dat gerry cashiol has stal on provid thi sarahjoy wil continu to pursu thi inform and get a sens from gerry cashiol of what he mean by short term opportun what is hps tim horizon for short term eb and gssbd was to facilit a conf cal on stor with rav to expl siz and pot scop of opportun complet gssbd was to facilit a conf cal with pet goebel gss it sourc portfolio lead set for in convers with you jen medcalf and myself thi morn sev decid on forwardlook strategy with hpeb wer confirmedgerry cashiol has been un to tak control of the process mor import despit num visit to enron in which he has had overview of enron produc and serv met with pet goebel and his team on the gss buy sid and particip in an expery enron tour gerry has been un to defin an hp busy proposit the coordin between cashiol short term in morgridg long term month has remain unorg thes in nee to be develop separatelyclear the convers with hp nee to be elev to a mor seny level so eb can work with hp decid mak who can mov the rel forward at a strategic level as the rel is develop at thi strategic level short term opportun wil crop up along the way but gerry short term plan wil not be the foc of the ebshp rel rath a byproduc to facilit thi process of elev the rel jen medcalf and i ar follow up with bil lovejoy and greg pyl lovejoy boss is dan sytsm vp of hps america cent reg in the conf cal thursday with pet goebel and hp regard wireless in pet wil support the gssbd push for the hpeb in by reit the follow two point a enron is already an hp custom the on is on hp to mov forward on the process of build a strategic rel ibm and lexmark ar on som of the hp competit who could push them out of the run b hps abl to bring the right peopl to the tabl wil influ hps busy rel process with enron patrick tuck and dal clark could build their rel with bil dwy chief architect eserv solv met at the meet in the near term perhap plan a visit to cupertino californ to see dwy in person we look forward to continu clos collab with yo team on thi and oth opportun sarahjoy hunterenron corporationglob strategic sourc busy develop hp confid intern docu'\n",
    "tag(text, \"PERSON\")\n",
    "tag(text, \"ORGANIZATION\")\n"
   ]
  }
 ],
 "metadata": {
  "anaconda-cloud": {},
  "kernelspec": {
   "display_name": "Python [conda root]",
   "language": "python",
   "name": "conda-root-py"
  },
  "language_info": {
   "codemirror_mode": {
    "name": "ipython",
    "version": 2
   },
   "file_extension": ".py",
   "mimetype": "text/x-python",
   "name": "python",
   "nbconvert_exporter": "python",
   "pygments_lexer": "ipython2",
   "version": "2.7.12"
  }
 },
 "nbformat": 4,
 "nbformat_minor": 1
}
